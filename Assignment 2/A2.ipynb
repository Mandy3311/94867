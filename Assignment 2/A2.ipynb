{
 "cells": [
  {
   "cell_type": "markdown",
   "metadata": {},
   "source": [
    "# SIR Model with Time Dependent Parameters - COVID-19 case"
   ]
  },
  {
   "cell_type": "markdown",
   "metadata": {},
   "source": [
    "### Setting Up Packages"
   ]
  },
  {
   "cell_type": "code",
   "execution_count": 1,
   "metadata": {},
   "outputs": [],
   "source": [
    "import numpy as np\n",
    "from scipy.integrate import odeint\n",
    "import matplotlib.pyplot as plt"
   ]
  },
  {
   "cell_type": "markdown",
   "metadata": {},
   "source": [
    "### Set Input Parameters"
   ]
  },
  {
   "cell_type": "code",
   "execution_count": 2,
   "metadata": {},
   "outputs": [],
   "source": [
    "# lambda: number of people that a susceptible person interacts with per time step\n",
    "# p: probability of getting infected if a susceptible person interacts with an infectious person\n",
    "# gamma: recovery rate (recovery probability within one time step)\n",
    "lam, p, gamma = 3, 0.05, 1./14\n",
    "\n",
    "# beta: number of people that an infectious person can infect within a single time period\n",
    "beta = lam * p"
   ]
  },
  {
   "cell_type": "code",
   "execution_count": 3,
   "metadata": {},
   "outputs": [],
   "source": [
    "# Total population.\n",
    "N_total = 330000000\n",
    "\n",
    "N = N_total\n",
    "\n",
    "# A grid of time points (in days) for the detecting period\n",
    "t = np.linspace(0, 365, 366)\n",
    "\n",
    "# Initial number of infected and immune individuals, I0 and R0.\n",
    "# Note: here R0 denotes the number of recovered people at time 0; not the disease reproductive number R_0 (R_naught)\n",
    "I0, R0 = 10, 0\n",
    "\n",
    "# Everyone else, S0, is susceptible to infection initially.\n",
    "S0 = N - I0 - R0"
   ]
  },
  {
   "cell_type": "markdown",
   "metadata": {},
   "source": [
    "### Model Engine"
   ]
  },
  {
   "cell_type": "code",
   "execution_count": 4,
   "metadata": {},
   "outputs": [],
   "source": [
    "# The SIR model differential equations.\n",
    "# Input: the current system state (S, I, R), t, and parameters\n",
    "# Output: changes in system state\n",
    "def deriv(y, t, N, beta, gamma):\n",
    "    S, I, R = y\n",
    "    dSdt = -beta * S * I / N\n",
    "    dIdt = beta * S * I / N - gamma * I\n",
    "    dRdt = gamma * I\n",
    "    return dSdt, dIdt, dRdt"
   ]
  },
  {
   "cell_type": "markdown",
   "metadata": {},
   "source": [
    "### Generate Trajectories for S(t), I(t), R(t)"
   ]
  },
  {
   "cell_type": "code",
   "execution_count": 5,
   "metadata": {},
   "outputs": [],
   "source": [
    "# Initial conditions vector\n",
    "y0 = S0, I0, R0\n",
    "# Integrate the SIR equations over the time grid, t.\n",
    "ret = odeint(deriv, y0, t, args=(N, beta, gamma))\n",
    "S, I, R = ret.T\n",
    "\n",
    "# Here outputs S,I,R are trajectories over the simulation time horizon, \n",
    "# i.e., S is a vector of the numbers of susceptible people at each time step, check by printing it out:\n",
    "#print S\n"
   ]
  },
  {
   "cell_type": "markdown",
   "metadata": {},
   "source": [
    "### Plot Trajectories for S(t), I(t), R(t)"
   ]
  },
  {
   "cell_type": "code",
   "execution_count": 6,
   "metadata": {},
   "outputs": [
    {
     "name": "stderr",
     "output_type": "stream",
     "text": [
      "/var/folders/mg/fljxr9qs2hl4_gfz743f68gh0000gn/T/ipykernel_78122/1835762605.py:12: MatplotlibDeprecationWarning: The 'b' parameter of grid() has been renamed 'visible' since Matplotlib 3.5; support for the old name will be dropped two minor releases later.\n",
      "  ax.grid(b=True, which='major', c='w', lw=2, ls='-')\n"
     ]
    },
    {
     "data": {
      "image/png": "[encoded data removed]",
      "text/plain": [
       "<Figure size 432x288 with 1 Axes>"
      ]
     },
     "metadata": {},
     "output_type": "display_data"
    }
   ],
   "source": [
    "# Plot the data on three separate curves for S(t), I(t) and R(t)\n",
    "fig = plt.figure(facecolor='w')\n",
    "ax = fig.add_subplot(111, facecolor='#dddddd', axisbelow=True)\n",
    "ax.plot(t, S, 'b', alpha=0.5, lw=2, label='Susceptible')\n",
    "ax.plot(t, I, 'r', alpha=0.5, lw=2, label='Infected')\n",
    "ax.plot(t, R, 'g', alpha=0.5, lw=2, label='Recovered/Removed')\n",
    "ax.set_xlabel('Time /days')\n",
    "ax.set_ylabel('Number of People')\n",
    "ax.set_ylim(0,N_total * 1.2)\n",
    "ax.yaxis.set_tick_params(length=0)\n",
    "ax.xaxis.set_tick_params(length=0)\n",
    "ax.grid(b=True, which='major', c='w', lw=2, ls='-')\n",
    "legend = ax.legend()\n",
    "legend.get_frame().set_alpha(0.5)\n",
    "for spine in ('top', 'right', 'bottom', 'left'):\n",
    "    ax.spines[spine].set_visible(False)\n",
    "plt.show()"
   ]
  },
  {
   "cell_type": "markdown",
   "metadata": {},
   "source": [
    "## Time Dependent  R_0"
   ]
  },
  {
   "cell_type": "code",
   "execution_count": 7,
   "metadata": {},
   "outputs": [],
   "source": [
    "L_shutdown = 60 # The day that R_naught changed\n",
    "L_relax = 1000 # The day that restrictions are relaxed"
   ]
  },
  {
   "cell_type": "code",
   "execution_count": 8,
   "metadata": {},
   "outputs": [],
   "source": [
    "# The SIR model differential equations.\n",
    "# The only difference frmo the previous version, is that now beta is time dependent\n",
    "def deriv_dynamic(y, t, N, beta, gamma):\n",
    "    S, I, R = y\n",
    "    dSdt = -beta(t) * S * I / N\n",
    "    dIdt = beta(t) * S * I / N - gamma * I\n",
    "    dRdt = gamma * I\n",
    "    return dSdt, dIdt, dRdt"
   ]
  },
  {
   "cell_type": "code",
   "execution_count": 9,
   "metadata": {},
   "outputs": [],
   "source": [
    "def beta_dynamic(t):\n",
    "    value = 1.0 * gamma\n",
    "    if t < L_shutdown:\n",
    "        value = 5.0 * gamma\n",
    "    elif t < L_relax:\n",
    "        value = 0.9 * gamma\n",
    "    else:\n",
    "        value = 2.5 * gamma\n",
    "    return value"
   ]
  },
  {
   "cell_type": "code",
   "execution_count": 10,
   "metadata": {},
   "outputs": [],
   "source": [
    "# Initial conditions vector\n",
    "y0 = S0, I0, R0\n",
    "# Integrate the SIR equations over the time grid, t.\n",
    "ret = odeint(deriv_dynamic, y0, t, args=(N, beta_dynamic, gamma))\n",
    "S, I, R = ret.T"
   ]
  },
  {
   "cell_type": "code",
   "execution_count": 11,
   "metadata": {},
   "outputs": [
    {
     "name": "stderr",
     "output_type": "stream",
     "text": [
      "/var/folders/mg/fljxr9qs2hl4_gfz743f68gh0000gn/T/ipykernel_78122/182282824.py:12: MatplotlibDeprecationWarning: The 'b' parameter of grid() has been renamed 'visible' since Matplotlib 3.5; support for the old name will be dropped two minor releases later.\n",
      "  ax.grid(b=True, which='major', c='w', lw=2, ls='-')\n"
     ]
    },
    {
     "data": {
      "image/png": "[encoded data removed]",
      "text/plain": [
       "<Figure size 432x288 with 1 Axes>"
      ]
     },
     "metadata": {},
     "output_type": "display_data"
    }
   ],
   "source": [
    "# Plot the data on three separate curves for S(t), I(t) and R(t)\n",
    "fig = plt.figure(facecolor='w')\n",
    "ax = fig.add_subplot(111, facecolor='#dddddd', axisbelow=True)\n",
    "ax.plot(t, S, 'b', alpha=0.5, lw=2, label='Susceptible')\n",
    "ax.plot(t, I, 'r', alpha=0.5, lw=2, label='Infected')\n",
    "ax.plot(t, R, 'g', alpha=0.5, lw=2, label='Recovered/Removed')\n",
    "ax.set_xlabel('Time /days')\n",
    "ax.set_ylabel('Number of People')\n",
    "ax.set_ylim(0, N_total * 1.2)\n",
    "ax.yaxis.set_tick_params(length=0)\n",
    "ax.xaxis.set_tick_params(length=0)\n",
    "ax.grid(b=True, which='major', c='w', lw=2, ls='-')\n",
    "legend = ax.legend()\n",
    "legend.get_frame().set_alpha(0.5)\n",
    "for spine in ('top', 'right', 'bottom', 'left'):\n",
    "    ax.spines[spine].set_visible(False)\n",
    "plt.show()"
   ]
  },
  {
   "cell_type": "markdown",
   "metadata": {},
   "source": [
    "## Smooth R_0 transition"
   ]
  },
  {
   "cell_type": "code",
   "execution_count": 12,
   "metadata": {},
   "outputs": [],
   "source": [
    "R_0_start, k, x0, R_0_end = 5.0, 0.5, 60, 0.5\n",
    "\n",
    "def logistic_R_0(t):\n",
    "    return (R_0_start-R_0_end) / (1 + np.exp(-k*(-t+x0))) + R_0_end\n",
    "\n",
    "def logistic_beta(t):\n",
    "    return ((R_0_start-R_0_end) / (1 + np.exp(-k*(-t+x0))) + R_0_end) * gamma\n",
    "\n",
    "# Initial conditions vector\n",
    "y0 = S0, I0, R0\n",
    "# Integrate the SIR equations over the time grid, t.\n",
    "ret = odeint(deriv_dynamic, y0, t, args=(N, logistic_beta, gamma))\n",
    "S, I, R = ret.T"
   ]
  },
  {
   "cell_type": "code",
   "execution_count": 13,
   "metadata": {},
   "outputs": [
    {
     "name": "stderr",
     "output_type": "stream",
     "text": [
      "/var/folders/mg/fljxr9qs2hl4_gfz743f68gh0000gn/T/ipykernel_78122/182282824.py:12: MatplotlibDeprecationWarning: The 'b' parameter of grid() has been renamed 'visible' since Matplotlib 3.5; support for the old name will be dropped two minor releases later.\n",
      "  ax.grid(b=True, which='major', c='w', lw=2, ls='-')\n"
     ]
    },
    {
     "data": {
      "image/png": "[encoded data removed]",
      "text/plain": [
       "<Figure size 432x288 with 1 Axes>"
      ]
     },
     "metadata": {},
     "output_type": "display_data"
    }
   ],
   "source": [
    "# Plot the data on three separate curves for S(t), I(t) and R(t)\n",
    "fig = plt.figure(facecolor='w')\n",
    "ax = fig.add_subplot(111, facecolor='#dddddd', axisbelow=True)\n",
    "ax.plot(t, S, 'b', alpha=0.5, lw=2, label='Susceptible')\n",
    "ax.plot(t, I, 'r', alpha=0.5, lw=2, label='Infected')\n",
    "ax.plot(t, R, 'g', alpha=0.5, lw=2, label='Recovered/Removed')\n",
    "ax.set_xlabel('Time /days')\n",
    "ax.set_ylabel('Number of People')\n",
    "ax.set_ylim(0, N_total * 1.2)\n",
    "ax.yaxis.set_tick_params(length=0)\n",
    "ax.xaxis.set_tick_params(length=0)\n",
    "ax.grid(b=True, which='major', c='w', lw=2, ls='-')\n",
    "legend = ax.legend()\n",
    "legend.get_frame().set_alpha(0.5)\n",
    "for spine in ('top', 'right', 'bottom', 'left'):\n",
    "    ax.spines[spine].set_visible(False)\n",
    "plt.show()"
   ]
  },
  {
   "cell_type": "markdown",
   "metadata": {},
   "source": [
    "# Fit Model to Data"
   ]
  },
  {
   "cell_type": "code",
   "execution_count": 14,
   "metadata": {},
   "outputs": [],
   "source": [
    "from scipy import integrate, optimize\n",
    "import pandas as pd"
   ]
  },
  {
   "cell_type": "code",
   "execution_count": 15,
   "metadata": {},
   "outputs": [],
   "source": [
    "cleaned_data = pd.read_csv('data/cleaned_data.csv')"
   ]
  },
  {
   "cell_type": "code",
   "execution_count": 19,
   "metadata": {},
   "outputs": [],
   "source": [
    "all_states = list(cleaned_data['state'].unique())"
   ]
  },
  {
   "cell_type": "code",
   "execution_count": 23,
   "metadata": {},
   "outputs": [
    {
     "name": "stdout",
     "output_type": "stream",
     "text": [
      "          date state  positive  population  active_percentage time_difference\n",
      "488 2020-06-25    AL   33206.0   4903185.0           0.006772         -1 days\n",
      "327 2020-12-03    AL  260359.0   4903185.0           0.053100         -1 days\n",
      "483 2020-06-30    AL   38045.0   4903185.0           0.007759         -1 days\n",
      "333 2020-11-27    AL  242874.0   4903185.0           0.049534         -1 days\n",
      "530 2020-05-14    AL   10968.0   4903185.0           0.002237         -1 days\n",
      "572 2020-04-02    AL    1233.0   4903185.0           0.000251         -1 days\n",
      "495 2020-06-18    AL   28206.0   4903185.0           0.005753         -1 days\n",
      "576 2020-03-29    AL     806.0   4903185.0           0.000164         -1 days\n",
      "403 2020-09-18    AL  142863.0   4903185.0           0.029137         -1 days\n",
      "351 2020-11-09    AL  204857.0   4903185.0           0.041780         -1 days\n",
      "The datetime column is not continuous.\n"
     ]
    },
    {
     "name": "stderr",
     "output_type": "stream",
     "text": [
      "/var/folders/mg/fljxr9qs2hl4_gfz743f68gh0000gn/T/ipykernel_78122/9764858.py:2: SettingWithCopyWarning: \n",
      "A value is trying to be set on a copy of a slice from a DataFrame.\n",
      "Try using .loc[row_indexer,col_indexer] = value instead\n",
      "\n",
      "See the caveats in the documentation: https://pandas.pydata.org/pandas-docs/stable/user_guide/indexing.html#returning-a-view-versus-a-copy\n",
      "  filtered_data['date'] = pd.to_datetime(filtered_data['date'])\n",
      "/var/folders/mg/fljxr9qs2hl4_gfz743f68gh0000gn/T/ipykernel_78122/9764858.py:3: SettingWithCopyWarning: \n",
      "A value is trying to be set on a copy of a slice from a DataFrame.\n",
      "Try using .loc[row_indexer,col_indexer] = value instead\n",
      "\n",
      "See the caveats in the documentation: https://pandas.pydata.org/pandas-docs/stable/user_guide/indexing.html#returning-a-view-versus-a-copy\n",
      "  filtered_data['time_difference'] = filtered_data['date'].diff()\n"
     ]
    }
   ],
   "source": [
    "filtered_data = cleaned_data[cleaned_data['state'] == 'AL']\n",
    "filtered_data['date'] = pd.to_datetime(filtered_data['date'])\n",
    "filtered_data['time_difference'] = filtered_data['date'].diff()\n",
    "print(filtered_data.sample(10))\n",
    "is_continuous = filtered_data['time_difference'].dt.total_seconds().eq(filtered_data['time_difference'].dt.total_seconds().mean())\n",
    "\n",
    "# Check if the datetime column is continuous\n",
    "if is_continuous.all():\n",
    "    print(\"The datetime column is continuous.\")\n",
    "else:\n",
    "    print(\"The datetime column is not continuous.\")\n",
    "    \n"
   ]
  },
  {
   "cell_type": "code",
   "execution_count": 25,
   "metadata": {},
   "outputs": [],
   "source": [
    "for state in all_states:\n",
    "    filtered_data = cleaned_data[cleaned_data['state'] == state ]\n",
    "    y_total = list(filtered_data['active_percentage'])\n",
    "    x_total = range(0, len(set(filtered_data['date']))) #这里漏了一个range\n",
    "    N = list(filtered_data['population'])[0]\n",
    "\n",
    "    ydata = np.array(y_total, dtype=float) * N\n",
    "    xdata = np.array(x_total, dtype=float)\n",
    "    \n",
    "    # Returns the active case counts over time\n",
    "    def fit_odeint(x, beta, gamma, I0):\n",
    "        S0 = N - I0\n",
    "        R0 = 0\n",
    "        return odeint(deriv, (S0, I0, R0), x, args=(N, beta, gamma))[:,1]\n",
    "\n",
    "    all_popt = []\n",
    "    # popt - calculated optimal parameter values that can minimize the sum of squared errors\n",
    "    popt, pcov = optimize.curve_fit(fit_odeint, xdata, ydata,(0.3,1/14,0.05*N))\n",
    "    all_popt.append(popt)\n"
   ]
  },
  {
   "cell_type": "code",
   "execution_count": 26,
   "metadata": {},
   "outputs": [],
   "source": [
    "ydata = np.array(y_total, dtype=float) * N\n",
    "xdata = np.array(x_total, dtype=float)\n",
    "\n",
    "# Returns the active case counts over time\n",
    "def fit_odeint(x, beta, gamma, I0):\n",
    "    S0 = N - I0\n",
    "    R0 = 0\n",
    "    return odeint(deriv, (S0, I0, R0), x, args=(N, beta, gamma))[:,1]\n",
    "\n",
    "# popt - calculated optimal parameter values that can minimize the sum of squared errors\n",
    "popt, pcov = optimize.curve_fit(fit_odeint, xdata, ydata,(0.3,1/14,0.05*N))"
   ]
  },
  {
   "cell_type": "code",
   "execution_count": 27,
   "metadata": {},
   "outputs": [
    {
     "name": "stdout",
     "output_type": "stream",
     "text": [
      "[1.03424725e-01 9.65758542e-02 4.42869495e+04]\n"
     ]
    }
   ],
   "source": [
    "print(popt)"
   ]
  },
  {
   "cell_type": "code",
   "execution_count": null,
   "metadata": {},
   "outputs": [],
   "source": [
    "fitted = fit_odeint(xdata, *popt)"
   ]
  },
  {
   "cell_type": "code",
   "execution_count": null,
   "metadata": {},
   "outputs": [],
   "source": [
    "plt.plot(xdata, ydata, 'o')\n",
    "plt.plot(xdata, fitted)\n",
    "plt.show()"
   ]
  }
 ],
 "metadata": {
  "kernelspec": {
   "display_name": "Python 3 (ipykernel)",
   "language": "python",
   "name": "python3"
  },
  "language_info": {
   "codemirror_mode": {
    "name": "ipython",
    "version": 3
   },
   "file_extension": ".py",
   "mimetype": "text/x-python",
   "name": "python",
   "nbconvert_exporter": "python",
   "pygments_lexer": "ipython3",
   "version": "3.9.12"
  }
 },
 "nbformat": 4,
 "nbformat_minor": 2
}
